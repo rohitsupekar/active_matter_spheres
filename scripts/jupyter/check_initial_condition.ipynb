{
 "cells": [
  {
   "cell_type": "code",
   "execution_count": 11,
   "metadata": {},
   "outputs": [
    {
     "name": "stdout",
     "output_type": "stream",
     "text": [
      "2019-05-31 16:37:27,752 equations 0/1 INFO :: Building matrix 0\n",
      "2019-05-31 16:37:27,784 equations 0/1 INFO :: Building matrix 1\n",
      "2019-05-31 16:37:27,817 equations 0/1 INFO :: Building matrix 2\n",
      "2019-05-31 16:37:27,848 equations 0/1 INFO :: Building matrix 3\n",
      "2019-05-31 16:37:27,873 equations 0/1 INFO :: Building matrix 4\n",
      "2019-05-31 16:37:27,904 equations 0/1 INFO :: Building matrix 5\n",
      "2019-05-31 16:37:27,932 equations 0/1 INFO :: Building matrix 6\n",
      "2019-05-31 16:37:27,959 equations 0/1 INFO :: Building matrix 7\n",
      "2019-05-31 16:37:27,989 equations 0/1 INFO :: Building matrix 8\n",
      "2019-05-31 16:37:28,020 equations 0/1 INFO :: Building matrix 9\n",
      "2019-05-31 16:37:28,045 equations 0/1 INFO :: Building matrix 10\n",
      "2019-05-31 16:37:28,068 equations 0/1 INFO :: Building matrix 11\n",
      "2019-05-31 16:37:28,098 equations 0/1 INFO :: Building matrix 12\n",
      "2019-05-31 16:37:28,131 equations 0/1 INFO :: Building matrix 13\n",
      "2019-05-31 16:37:28,157 equations 0/1 INFO :: Building matrix 14\n",
      "2019-05-31 16:37:28,188 equations 0/1 INFO :: Building matrix 15\n",
      "2019-05-31 16:37:28,219 equations 0/1 INFO :: Building matrix 16\n",
      "2019-05-31 16:37:28,246 equations 0/1 INFO :: Building matrix 17\n",
      "2019-05-31 16:37:28,268 equations 0/1 INFO :: Building matrix 18\n",
      "2019-05-31 16:37:28,301 equations 0/1 INFO :: Building matrix 19\n",
      "2019-05-31 16:37:28,334 equations 0/1 INFO :: Building matrix 20\n",
      "2019-05-31 16:37:28,357 equations 0/1 INFO :: Building matrix 21\n",
      "2019-05-31 16:37:28,380 equations 0/1 INFO :: Building matrix 22\n",
      "2019-05-31 16:37:28,407 equations 0/1 INFO :: Building matrix 23\n",
      "2019-05-31 16:37:28,436 equations 0/1 INFO :: Building matrix 24\n",
      "2019-05-31 16:37:28,462 equations 0/1 INFO :: Building matrix 25\n",
      "2019-05-31 16:37:28,485 equations 0/1 INFO :: Building matrix 26\n",
      "2019-05-31 16:37:28,519 equations 0/1 INFO :: Building matrix 27\n",
      "2019-05-31 16:37:28,551 equations 0/1 INFO :: Building matrix 28\n",
      "2019-05-31 16:37:28,581 equations 0/1 INFO :: Building matrix 29\n",
      "2019-05-31 16:37:28,607 equations 0/1 INFO :: Building matrix 30\n",
      "2019-05-31 16:37:28,636 equations 0/1 INFO :: Building matrix 31\n",
      "2019-05-31 16:37:28,667 equations 0/1 INFO :: Building matrix 32\n",
      "2019-05-31 16:37:28,696 equations 0/1 INFO :: Building matrix 33\n",
      "2019-05-31 16:37:28,718 equations 0/1 INFO :: Building matrix 34\n",
      "2019-05-31 16:37:28,743 equations 0/1 INFO :: Building matrix 35\n",
      "2019-05-31 16:37:28,775 equations 0/1 INFO :: Building matrix 36\n",
      "2019-05-31 16:37:28,803 equations 0/1 INFO :: Building matrix 37\n",
      "2019-05-31 16:37:28,833 equations 0/1 INFO :: Building matrix 38\n",
      "2019-05-31 16:37:28,861 equations 0/1 INFO :: Building matrix 39\n",
      "2019-05-31 16:37:28,890 equations 0/1 INFO :: Building matrix 40\n",
      "2019-05-31 16:37:28,923 equations 0/1 INFO :: Building matrix 41\n",
      "2019-05-31 16:37:28,952 equations 0/1 INFO :: Building matrix 42\n",
      "2019-05-31 16:37:28,979 equations 0/1 INFO :: Building matrix 43\n",
      "2019-05-31 16:37:29,003 equations 0/1 INFO :: Building matrix 44\n",
      "2019-05-31 16:37:29,036 equations 0/1 INFO :: Building matrix 45\n",
      "2019-05-31 16:37:29,068 equations 0/1 INFO :: Building matrix 46\n",
      "2019-05-31 16:37:29,095 equations 0/1 INFO :: Building matrix 47\n",
      "2019-05-31 16:37:29,123 equations 0/1 INFO :: Building matrix 48\n",
      "2019-05-31 16:37:29,152 equations 0/1 INFO :: Building matrix 49\n",
      "2019-05-31 16:37:29,177 equations 0/1 INFO :: Building matrix 50\n",
      "2019-05-31 16:37:29,207 equations 0/1 INFO :: Building matrix 51\n",
      "2019-05-31 16:37:29,239 equations 0/1 INFO :: Building matrix 52\n",
      "2019-05-31 16:37:29,268 equations 0/1 INFO :: Building matrix 53\n",
      "2019-05-31 16:37:29,292 equations 0/1 INFO :: Building matrix 54\n",
      "2019-05-31 16:37:29,325 equations 0/1 INFO :: Building matrix 55\n",
      "2019-05-31 16:37:29,354 equations 0/1 INFO :: Building matrix 56\n",
      "2019-05-31 16:37:29,383 equations 0/1 INFO :: Building matrix 57\n",
      "2019-05-31 16:37:29,410 equations 0/1 INFO :: Building matrix 58\n",
      "2019-05-31 16:37:29,441 equations 0/1 INFO :: Building matrix 59\n",
      "2019-05-31 16:37:29,468 equations 0/1 INFO :: Building matrix 60\n",
      "2019-05-31 16:37:29,491 equations 0/1 INFO :: Building matrix 61\n",
      "2019-05-31 16:37:29,526 equations 0/1 INFO :: Building matrix 62\n",
      "2019-05-31 16:37:29,553 equations 0/1 INFO :: Building matrix 63\n",
      "2019-05-31 16:37:29,578 equations 0/1 INFO :: Building matrix 64\n",
      "2019-05-31 16:37:29,607 equations 0/1 INFO :: Building matrix 65\n",
      "2019-05-31 16:37:29,638 equations 0/1 INFO :: Building matrix 66\n",
      "2019-05-31 16:37:29,664 equations 0/1 INFO :: Building matrix 67\n",
      "2019-05-31 16:37:29,689 equations 0/1 INFO :: Building matrix 68\n",
      "2019-05-31 16:37:29,718 equations 0/1 INFO :: Building matrix 69\n",
      "2019-05-31 16:37:29,743 equations 0/1 INFO :: Building matrix 70\n",
      "2019-05-31 16:37:29,773 equations 0/1 INFO :: Building matrix 71\n",
      "2019-05-31 16:37:29,803 equations 0/1 INFO :: Building matrix 72\n",
      "2019-05-31 16:37:29,835 equations 0/1 INFO :: Building matrix 73\n",
      "2019-05-31 16:37:29,859 equations 0/1 INFO :: Building matrix 74\n",
      "2019-05-31 16:37:29,885 equations 0/1 INFO :: Building matrix 75\n",
      "2019-05-31 16:37:29,913 equations 0/1 INFO :: Building matrix 76\n",
      "2019-05-31 16:37:29,942 equations 0/1 INFO :: Building matrix 77\n",
      "2019-05-31 16:37:29,965 equations 0/1 INFO :: Building matrix 78\n",
      "2019-05-31 16:37:29,996 equations 0/1 INFO :: Building matrix 79\n",
      "2019-05-31 16:37:30,021 equations 0/1 INFO :: Building matrix 80\n",
      "2019-05-31 16:37:30,051 equations 0/1 INFO :: Building matrix 81\n",
      "2019-05-31 16:37:30,082 equations 0/1 INFO :: Building matrix 82\n",
      "2019-05-31 16:37:30,113 equations 0/1 INFO :: Building matrix 83\n",
      "2019-05-31 16:37:30,137 equations 0/1 INFO :: Building matrix 84\n",
      "2019-05-31 16:37:30,172 equations 0/1 INFO :: Building matrix 85\n",
      "2019-05-31 16:37:30,199 equations 0/1 INFO :: Building matrix 86\n",
      "2019-05-31 16:37:30,223 equations 0/1 INFO :: Building matrix 87\n",
      "2019-05-31 16:37:30,253 equations 0/1 INFO :: Building matrix 88\n",
      "2019-05-31 16:37:30,280 equations 0/1 INFO :: Building matrix 89\n",
      "2019-05-31 16:37:30,302 equations 0/1 INFO :: Building matrix 90\n",
      "2019-05-31 16:37:30,335 equations 0/1 INFO :: Building matrix 91\n",
      "2019-05-31 16:37:30,360 equations 0/1 INFO :: Building matrix 92\n",
      "2019-05-31 16:37:30,393 equations 0/1 INFO :: Building matrix 93\n",
      "2019-05-31 16:37:30,420 equations 0/1 INFO :: Building matrix 94\n",
      "2019-05-31 16:37:30,447 equations 0/1 INFO :: Building matrix 95\n",
      "2019-05-31 16:37:30,474 equations 0/1 INFO :: Building matrix 96\n",
      "2019-05-31 16:37:30,507 equations 0/1 INFO :: Building matrix 97\n",
      "2019-05-31 16:37:30,539 equations 0/1 INFO :: Building matrix 98\n",
      "2019-05-31 16:37:30,562 equations 0/1 INFO :: Building matrix 99\n",
      "2019-05-31 16:37:30,594 equations 0/1 INFO :: Building matrix 100\n",
      "2019-05-31 16:37:30,627 equations 0/1 INFO :: Building matrix 101\n",
      "2019-05-31 16:37:30,658 equations 0/1 INFO :: Building matrix 102\n",
      "2019-05-31 16:37:30,692 equations 0/1 INFO :: Building matrix 103\n",
      "2019-05-31 16:37:30,722 equations 0/1 INFO :: Building matrix 104\n",
      "2019-05-31 16:37:30,744 equations 0/1 INFO :: Building matrix 105\n",
      "2019-05-31 16:37:30,776 equations 0/1 INFO :: Building matrix 106\n",
      "2019-05-31 16:37:30,802 equations 0/1 INFO :: Building matrix 107\n",
      "2019-05-31 16:37:30,827 equations 0/1 INFO :: Building matrix 108\n",
      "2019-05-31 16:37:30,855 equations 0/1 INFO :: Building matrix 109\n",
      "2019-05-31 16:37:30,882 equations 0/1 INFO :: Building matrix 110\n",
      "2019-05-31 16:37:30,918 equations 0/1 INFO :: Building matrix 111\n",
      "2019-05-31 16:37:30,944 equations 0/1 INFO :: Building matrix 112\n",
      "2019-05-31 16:37:30,967 equations 0/1 INFO :: Building matrix 113\n",
      "2019-05-31 16:37:30,988 equations 0/1 INFO :: Building matrix 114\n",
      "2019-05-31 16:37:31,012 equations 0/1 INFO :: Building matrix 115\n",
      "2019-05-31 16:37:31,037 equations 0/1 INFO :: Building matrix 116\n",
      "2019-05-31 16:37:31,060 equations 0/1 INFO :: Building matrix 117\n",
      "2019-05-31 16:37:31,082 equations 0/1 INFO :: Building matrix 118\n",
      "2019-05-31 16:37:31,104 equations 0/1 INFO :: Building matrix 119\n",
      "2019-05-31 16:37:31,126 equations 0/1 INFO :: Building matrix 120\n",
      "2019-05-31 16:37:31,148 equations 0/1 INFO :: Building matrix 121\n",
      "2019-05-31 16:37:31,171 equations 0/1 INFO :: Building matrix 122\n",
      "2019-05-31 16:37:31,193 equations 0/1 INFO :: Building matrix 123\n",
      "2019-05-31 16:37:31,215 equations 0/1 INFO :: Building matrix 124\n",
      "2019-05-31 16:37:31,234 equations 0/1 INFO :: Building matrix 125\n"
     ]
    },
    {
     "name": "stdout",
     "output_type": "stream",
     "text": [
      "2019-05-31 16:37:31,263 equations 0/1 INFO :: Building matrix 126\n",
      "2019-05-31 16:37:31,287 equations 0/1 INFO :: Building matrix 127\n"
     ]
    }
   ],
   "source": [
    "\"\"\"Simulation script.\"\"\"\n",
    "\n",
    "import os\n",
    "import sys\n",
    "sys.path.append(\"../\") # go to parent dir\n",
    "import time\n",
    "import pathlib\n",
    "import logging\n",
    "import numpy as np\n",
    "from mpi4py import MPI\n",
    "from scipy.sparse import linalg as spla\n",
    "from dedalus.tools.config import config\n",
    "from simple_sphere import SimpleSphere\n",
    "import equations\n",
    "\n",
    "# Logging and config\n",
    "logger = logging.getLogger(__name__)\n",
    "STORE_LU = config['linear algebra'].getboolean('store_LU')\n",
    "PERMC_SPEC = config['linear algebra']['permc_spec']\n",
    "USE_UMFPACK = config['linear algebra'].getboolean('use_umfpack')\n",
    "\n",
    "# Discretization parameters\n",
    "L_max = 127  # Spherical harmonic order\n",
    "S_max = 4  # Spin order (leave fixed)\n",
    "\n",
    "# Model parameters\n",
    "Lmid = 4   #gives 1/10 as characteristic diameter for the vortices\n",
    "kappa = 1    #spectral injection bandwidth\n",
    "gamma = 1  # surface mass density\n",
    "fspin = 0\n",
    "\n",
    "### calculates e0, e1, e2 from Lmid and kappa\n",
    "a = 0.25*(Lmid**2*kappa**2 - 0.5*(2*np.pi*Lmid+1)**2)**2 + 17*17/16 - (34/16)*(2*np.pi*Lmid+1)**2\n",
    "b = (17/4 - 0.25*(2*np.pi*Lmid+1)**2)**2\n",
    "c = 1/(17/4 - 0.25*(2*np.pi*Lmid + 1)**2 - 2)\n",
    "e0 = a*c/(a-b)\n",
    "e1 = 2*np.sqrt(b)*c/(a-b)\n",
    "e2 = c/(a-b)\n",
    "\n",
    "params = [gamma, e0, e1, e2, fspin]\n",
    "\n",
    "# Integration parameters\n",
    "Amp = 1e-2  # initial noise amplitude\n",
    "factor = 0.5   #controls the time step below to be 0.5/(100*Lmid^2), which is 0.5/100 of characteristic vortex dynamics time\n",
    "dt = factor/(100)\n",
    "n_iterations = int(100/factor)# total iterations. Change 10000 to higher number for longer run!\n",
    "n_output = int(10/factor)  # data output cadence\n",
    "n_clean = 10\n",
    "output_folder = 'output_garbage'  # data output folder\n",
    "\n",
    "# Find MPI rank\n",
    "comm = MPI.COMM_WORLD\n",
    "rank = comm.rank\n",
    "\n",
    "# Domain\n",
    "start_init_time = time.time()\n",
    "simplesphere = SimpleSphere(L_max, S_max)\n",
    "domain = simplesphere.domain\n",
    "\n",
    "# Model\n",
    "model = equations.ActiveMatterModel(simplesphere, params)\n",
    "state_system = model.state_system\n",
    "\n",
    "# Matrices\n",
    "# Combine matrices and perform LU decompositions for constant timestep\n",
    "A = []\n",
    "for dm, m in enumerate(simplesphere.local_m):\n",
    "    # Backward Euler for LHS\n",
    "    Am = model.M[dm] + dt*model.L[dm]\n",
    "    if STORE_LU:\n",
    "        Am = spla.splu(Am.tocsc(), permc_spec=PERMC_SPEC)\n",
    "    A.append(Am)\n",
    "\n"
   ]
  },
  {
   "cell_type": "code",
   "execution_count": 23,
   "metadata": {},
   "outputs": [],
   "source": [
    "phi_flat = simplesphere.phi_grid.ravel()\n",
    "theta_flat = simplesphere.global_theta_grid.ravel()\n",
    "theta, phi = np.meshgrid(theta_flat, phi_flat)\n",
    "v = model.v\n",
    "sh = v.component_fields[1]['g'].shape\n",
    "v.component_fields[1]['g'] = np.sin(theta)\n"
   ]
  },
  {
   "cell_type": "code",
   "execution_count": 21,
   "metadata": {},
   "outputs": [],
   "source": [
    "# Initial conditions\n",
    "# Add random perturbations to the velocity coefficients\n",
    "v = model.v\n",
    "rand = np.random.RandomState(seed=42+rank)\n",
    "for dm, m in enumerate(simplesphere.local_m):\n",
    "    shape = v.coeffs[dm].shape\n",
    "    noise = rand.standard_normal(shape)\n",
    "    phase = rand.uniform(0,2*np.pi,shape)\n",
    "    v.coeffs[dm] = Amp * noise*np.exp(1j*phase)\n",
    "state_system.pack_coeffs()\n",
    "\n",
    "# Setup outputs\n",
    "file_num = 1\n",
    "if not os.path.exists(output_folder):\n",
    "    os.mkdir(output_folder)\n"
   ]
  },
  {
   "cell_type": "code",
   "execution_count": 18,
   "metadata": {},
   "outputs": [
    {
     "data": {
      "text/plain": [
       "(256, 128)"
      ]
     },
     "execution_count": 18,
     "metadata": {},
     "output_type": "execute_result"
    }
   ],
   "source": [
    "sh"
   ]
  },
  {
   "cell_type": "code",
   "execution_count": 22,
   "metadata": {},
   "outputs": [
    {
     "data": {
      "text/plain": [
       "(256, 128)"
      ]
     },
     "execution_count": 22,
     "metadata": {},
     "output_type": "execute_result"
    }
   ],
   "source": [
    "phi.shape"
   ]
  },
  {
   "cell_type": "code",
   "execution_count": null,
   "metadata": {},
   "outputs": [],
   "source": []
  }
 ],
 "metadata": {
  "kernelspec": {
   "display_name": "Python [conda env:dedalus]",
   "language": "python",
   "name": "conda-env-dedalus-py"
  },
  "language_info": {
   "codemirror_mode": {
    "name": "ipython",
    "version": 3
   },
   "file_extension": ".py",
   "mimetype": "text/x-python",
   "name": "python",
   "nbconvert_exporter": "python",
   "pygments_lexer": "ipython3",
   "version": "3.7.3"
  },
  "varInspector": {
   "cols": {
    "lenName": 16,
    "lenType": 16,
    "lenVar": 40
   },
   "kernels_config": {
    "python": {
     "delete_cmd_postfix": "",
     "delete_cmd_prefix": "del ",
     "library": "var_list.py",
     "varRefreshCmd": "print(var_dic_list())"
    },
    "r": {
     "delete_cmd_postfix": ") ",
     "delete_cmd_prefix": "rm(",
     "library": "var_list.r",
     "varRefreshCmd": "cat(var_dic_list()) "
    }
   },
   "types_to_exclude": [
    "module",
    "function",
    "builtin_function_or_method",
    "instance",
    "_Feature"
   ],
   "window_display": false
  }
 },
 "nbformat": 4,
 "nbformat_minor": 2
}
