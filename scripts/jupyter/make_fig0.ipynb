{
 "cells": [
  {
   "cell_type": "code",
   "execution_count": 1,
   "metadata": {},
   "outputs": [],
   "source": [
    "#get gammas from Lmid and kappa setting R=1 and tau=1\n",
    "def get_gammas(Lmid, kappa):\n",
    "    \n",
    "    a = 0.25*(Lmid**2*kappa**2 - 0.5*(2*np.pi*Lmid+1)**2)**2 + 17*17/16 - (34/16)*(2*np.pi*Lmid+1)**2\n",
    "    b = (17/4 - 0.25*(2*np.pi*Lmid+1)**2)**2\n",
    "    c = 1/(17/4 - 0.25*(2*np.pi*Lmid + 1)**2 - 2)\n",
    "    gamma0 = a*c/(a-b)\n",
    "    gamma2 = -2*np.sqrt(b)*c/(a-b)\n",
    "    gamma4 = c/(a-b)\n",
    "    \n",
    "    return (gamma0, gamma2, gamma4)\n",
    "\n",
    "#define function that returns the neutral ell's for a given R/Lambda and kappa\n",
    "def get_l(Lmid, kappa):\n",
    "    \n",
    "    gamma0, gamma2, gamma4 = get_gammas(Lmid, kappa)\n",
    "    delta_p = (0.5/gamma4)*(-gamma2+np.sqrt(gamma2**2-4*gamma0*gamma4))\n",
    "    delta_m = (0.5/gamma4)*(-gamma2-np.sqrt(gamma2**2-4*gamma0*gamma4))\n",
    "    \n",
    "    l_p = 0.5*(-1+np.sqrt(17+4*delta_p))\n",
    "    l_m = 0.5*(-1+np.sqrt(17+4*delta_m))\n",
    "        \n",
    "    return l_m, l_p  "
   ]
  },
  {
   "cell_type": "code",
   "execution_count": 2,
   "metadata": {},
   "outputs": [],
   "source": [
    "import numpy as np\n",
    "import matplotlib.pyplot as plt"
   ]
  },
  {
   "cell_type": "code",
   "execution_count": 3,
   "metadata": {},
   "outputs": [],
   "source": [
    "gamma0, gamma2, gamma4 = get_gammas(8, 1)\n",
    "l_m, l_p = get_l(8,1)"
   ]
  },
  {
   "cell_type": "code",
   "execution_count": 4,
   "metadata": {},
   "outputs": [],
   "source": [
    "def Xi(ell):\n",
    "    delta = (ell*(ell+1) - 4)\n",
    "    return -(delta + 2)*(gamma0 + gamma2*delta + gamma4*delta**2)"
   ]
  },
  {
   "cell_type": "code",
   "execution_count": 5,
   "metadata": {},
   "outputs": [
    {
     "name": "stderr",
     "output_type": "stream",
     "text": [
      "//anaconda3/envs/python3/lib/python3.6/site-packages/matplotlib/font_manager.py:1241: UserWarning: findfont: Font family ['serif'] not found. Falling back to DejaVu Sans.\n",
      "  (prop.get_family(), self.defaultFamily[fontext]))\n"
     ]
    },
    {
     "data": {
      "image/png": "[encoded data removed]",
      "text/plain": [
       "<Figure size 800x400 with 1 Axes>"
      ]
     },
     "metadata": {
      "needs_background": "light"
     },
     "output_type": "display_data"
    }
   ],
   "source": [
    "from matplotlib import rc\n",
    "rc('font', **{'family': 'serif', 'serif': ['Computer Modern Roman'], 'size': 10})\n",
    "rc('text', usetex=True)\n",
    "\n",
    "ells = np.arange(1,32)\n",
    "fig = plt.figure(figsize=(4,2), dpi=200)\n",
    "ax = plt.axes()\n",
    "ax.plot(ells, Xi(ells), 'k.')\n",
    "ax.set_yticks([-2, -1, 0, 1])\n",
    "ax.set_ylim([-2,1.5])\n",
    "ax.set_ylabel(r\"$\\Xi$\", rotation=0)\n",
    "ax.set_xlabel(r\"$\\ell$\")\n",
    "\n",
    "from matplotlib.patches import Rectangle\n",
    "rect = Rectangle((l_m, -2), l_p-l_m, 3.5, facecolor='k', alpha=0.2, rasterized=True)\n",
    "ax.add_patch(rect)\n",
    "\n",
    "plt.tight_layout()\n",
    "\n",
    "plt.savefig(\"../plots/figure0_raw.pdf\")"
   ]
  },
  {
   "cell_type": "code",
   "execution_count": 6,
   "metadata": {},
   "outputs": [
    {
     "data": {
      "text/plain": [
       "(0.014335587575618248, -4.86002034541143e-05, 3.72251377319165e-08)"
      ]
     },
     "execution_count": 6,
     "metadata": {},
     "output_type": "execute_result"
    }
   ],
   "source": [
    "get_gammas(8,1)"
   ]
  },
  {
   "cell_type": "code",
   "execution_count": 10,
   "metadata": {},
   "outputs": [
    {
     "data": {
      "text/plain": [
       "4.545454545454546"
      ]
     },
     "execution_count": 10,
     "metadata": {},
     "output_type": "execute_result"
    }
   ],
   "source": [
    "(1/2)**2/0.055"
   ]
  },
  {
   "cell_type": "code",
   "execution_count": null,
   "metadata": {},
   "outputs": [],
   "source": []
  }
 ],
 "metadata": {
  "kernelspec": {
   "display_name": "Python [conda env:python3]",
   "language": "python",
   "name": "conda-env-python3-py"
  },
  "language_info": {
   "codemirror_mode": {
    "name": "ipython",
    "version": 3
   },
   "file_extension": ".py",
   "mimetype": "text/x-python",
   "name": "python",
   "nbconvert_exporter": "python",
   "pygments_lexer": "ipython3",
   "version": "3.6.0"
  },
  "varInspector": {
   "cols": {
    "lenName": 16,
    "lenType": 16,
    "lenVar": 40
   },
   "kernels_config": {
    "python": {
     "delete_cmd_postfix": "",
     "delete_cmd_prefix": "del ",
     "library": "var_list.py",
     "varRefreshCmd": "print(var_dic_list())"
    },
    "r": {
     "delete_cmd_postfix": ") ",
     "delete_cmd_prefix": "rm(",
     "library": "var_list.r",
     "varRefreshCmd": "cat(var_dic_list()) "
    }
   },
   "types_to_exclude": [
    "module",
    "function",
    "builtin_function_or_method",
    "instance",
    "_Feature"
   ],
   "window_display": false
  }
 },
 "nbformat": 4,
 "nbformat_minor": 2
}
