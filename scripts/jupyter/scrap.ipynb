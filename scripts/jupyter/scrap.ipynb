{
 "cells": [
  {
   "cell_type": "code",
   "execution_count": 31,
   "metadata": {},
   "outputs": [
    {
     "name": "stdout",
     "output_type": "stream",
     "text": [
      "Total time stamps = 4999\n"
     ]
    }
   ],
   "source": [
    "import os\n",
    "import sys\n",
    "sys.path.append(\"../\") # go to parent dir\n",
    "import glob\n",
    "import time\n",
    "import pathlib\n",
    "import logging\n",
    "import numpy as np\n",
    "from scipy.sparse import linalg as spla\n",
    "#from dedalus.tools.config import config\n",
    "#from simple_sphere import SimpleSphere, TensorField, TensorSystem\n",
    "#import equations\n",
    "import matplotlib.pyplot as plt\n",
    "%matplotlib inline\n",
    "#import cartopy.crs as ccrs\n",
    "#from dedalus.extras import plot_tools\n",
    "import logging\n",
    "from mpl_toolkits import mplot3d\n",
    "logger = logging.getLogger(__name__) \n",
    "from matplotlib.animation import FFMpegWriter\n",
    "from matplotlib.patches import Rectangle, Wedge\n",
    "from mpl_toolkits.axes_grid1.axes_divider import make_axes_locatable\n",
    "\n",
    "STRNAME = \"sphere115\"\n",
    "Lmid=2\n",
    "Omega = 500\n",
    "\n",
    "#add path to data folder\n",
    "input_folder = \"/Volumes/ExtDrive/data\"\n",
    "output_folder = \"/Users/Rohit/Documents/research/active_matter_spheres/scripts/garbage\"\n",
    "first_frame = 1\n",
    "last_frame = len(glob.glob1('%s/%s/' %(input_folder, STRNAME),\"*.npz\"))\n",
    "#last_frame = 3000\n",
    "dpi = 256\n",
    "\n",
    "# Setup output folder\n",
    "if not os.path.exists(output_folder):\n",
    "    os.makedirs(output_folder)\n",
    "\n",
    "print('Total time stamps = %i' %(last_frame-first_frame))"
   ]
  },
  {
   "cell_type": "code",
   "execution_count": 32,
   "metadata": {
    "scrolled": true
   },
   "outputs": [
    {
     "name": "stdout",
     "output_type": "stream",
     "text": [
      "0\n",
      "100\n",
      "200\n",
      "300\n",
      "400\n",
      "500\n",
      "600\n",
      "700\n",
      "800\n",
      "900\n"
     ]
    }
   ],
   "source": [
    "with np.load('%s/%s/output_%i.npz' %(input_folder, STRNAME, 1)) as file:\n",
    "    phi = file['phi']\n",
    "    theta = file['theta']\n",
    "\n",
    "step = 5\n",
    "t_arr = np.zeros(int(last_frame/step))\n",
    "\n",
    "om = np.zeros((int(last_frame/step), phi.shape[0], theta.shape[0]))\n",
    "vph = np.zeros_like(om)\n",
    "vth = np.zeros_like(om)\n",
    "    \n",
    "for i, ind in enumerate(range(first_frame, last_frame + 1, step)):\n",
    "    if i%100==0: print(i)\n",
    "    with np.load('%s/%s/output_%i.npz' %(input_folder, STRNAME, ind)) as file:\n",
    "        vph[i, :, :] = file['v_ph']\n",
    "        vth[i, :, :] = file['v_th']\n",
    "        om[i, :, :] = file['om']\n",
    "        t_arr[i] = file['t'][0]\n",
    "        \n"
   ]
  },
  {
   "cell_type": "code",
   "execution_count": 33,
   "metadata": {},
   "outputs": [
    {
     "data": {
      "text/plain": [
       "19.064990501750895"
      ]
     },
     "execution_count": 33,
     "metadata": {},
     "output_type": "execute_result"
    }
   ],
   "source": [
    "np.sqrt(np.mean(vph[int(1500/step):, :, :]**2 + vth[int(1500/step):, :, :]**2))"
   ]
  },
  {
   "cell_type": "code",
   "execution_count": 9,
   "metadata": {},
   "outputs": [
    {
     "data": {
      "text/plain": [
       "0.3840444652324299"
      ]
     },
     "execution_count": 9,
     "metadata": {},
     "output_type": "execute_result"
    }
   ],
   "source": [
    "np.sqrt(np.mean(vph[int(1500/step):, :, :]**2))"
   ]
  },
  {
   "cell_type": "code",
   "execution_count": null,
   "metadata": {},
   "outputs": [],
   "source": []
  }
 ],
 "metadata": {
  "kernelspec": {
   "display_name": "Python [conda env:dedalus]",
   "language": "python",
   "name": "conda-env-dedalus-py"
  },
  "language_info": {
   "codemirror_mode": {
    "name": "ipython",
    "version": 3
   },
   "file_extension": ".py",
   "mimetype": "text/x-python",
   "name": "python",
   "nbconvert_exporter": "python",
   "pygments_lexer": "ipython3",
   "version": "3.7.3"
  },
  "varInspector": {
   "cols": {
    "lenName": 16,
    "lenType": 16,
    "lenVar": 40
   },
   "kernels_config": {
    "python": {
     "delete_cmd_postfix": "",
     "delete_cmd_prefix": "del ",
     "library": "var_list.py",
     "varRefreshCmd": "print(var_dic_list())"
    },
    "r": {
     "delete_cmd_postfix": ") ",
     "delete_cmd_prefix": "rm(",
     "library": "var_list.r",
     "varRefreshCmd": "cat(var_dic_list()) "
    }
   },
   "types_to_exclude": [
    "module",
    "function",
    "builtin_function_or_method",
    "instance",
    "_Feature"
   ],
   "window_display": false
  }
 },
 "nbformat": 4,
 "nbformat_minor": 2
}
