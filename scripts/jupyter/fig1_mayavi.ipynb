{
 "cells": [
  {
   "cell_type": "code",
   "execution_count": 2,
   "metadata": {},
   "outputs": [],
   "source": [
    "import os\n",
    "import sys\n",
    "sys.path.append(\"../\") # go to parent dir\n",
    "import glob\n",
    "import time\n",
    "import logging\n",
    "import numpy as np\n",
    "from scipy.sparse import linalg as spla\n",
    "import matplotlib.pyplot as plt\n",
    "%matplotlib inline\n",
    "import logging\n",
    "from mpl_toolkits import mplot3d"
   ]
  },
  {
   "cell_type": "code",
   "execution_count": 3,
   "metadata": {},
   "outputs": [],
   "source": [
    "#add path to data folder\n",
    "input_folder = \"/Users/Rohit/Documents/research/active_matter_spheres/scripts/data/\"\n",
    "output_folder = \"/Users/Rohit/Documents/research/active_matter_spheres/scripts/garbage\"\n",
    "dpi=300\n",
    "\n",
    "ind = 1500\n",
    "\n",
    "with np.load(os.path.join(input_folder, 'sphere6_%i.npz' %(ind))) as file:\n",
    "    phi = file['phi']\n",
    "    theta = file['theta']\n",
    "    L_max = len(theta)-1\n",
    "    S_max = 4\n",
    "    om1 = file['om']\n",
    "    time = file['t'][0]\n",
    "\n",
    "ind = 1500\n",
    "    \n",
    "with np.load(os.path.join(input_folder, 'sphere7_%i.npz' %(ind))) as file:\n",
    "    phi = file['phi']\n",
    "    theta = file['theta']\n",
    "    L_max = len(theta)-1\n",
    "    S_max = 4\n",
    "    om2 = file['om']\n",
    "    time = file['t'][0]\n",
    "    \n",
    "ind = 1500\n",
    "with np.load(os.path.join(input_folder, 'sphere3_%i.npz' %(ind))) as file:\n",
    "    phi = file['phi']\n",
    "    theta = file['theta']\n",
    "    L_max = len(theta)-1\n",
    "    S_max = 4\n",
    "    om3 = file['om']\n",
    "    time = file['t'][0]\n"
   ]
  },
  {
   "cell_type": "code",
   "execution_count": null,
   "metadata": {},
   "outputs": [
    {
     "name": "stdout",
     "output_type": "stream",
     "text": [
      "Notebook initialized with x3d backend.\n"
     ]
    },
    {
     "name": "stderr",
     "output_type": "stream",
     "text": [
      "/Users/Rohit/anaconda3/envs/python3/lib/python2.7/site-packages/tvtk/array_handler.py:268: FutureWarning: Conversion of the second argument of issubdtype from `complex` to `np.complexfloating` is deprecated. In future, it will be treated as `np.complex128 == np.dtype(complex).type`.\n",
      "  assert not numpy.issubdtype(z.dtype, complex), \\\n"
     ]
    }
   ],
   "source": [
    "from mayavi import mlab\n",
    "mlab.init_notebook()\n",
    "import numpy as np\n",
    "from scipy.special import sph_harm\n",
    "\n",
    "# Create a sphere\n",
    "r = 0.3\n",
    "pi = np.pi\n",
    "cos = np.cos\n",
    "sin = np.sin\n",
    "phiphi, thth = np.meshgrid(theta, phi-pi)\n",
    "\n",
    "x = r * sin(phiphi) * cos(thth)\n",
    "y = r * sin(phiphi) * sin(thth)\n",
    "z = r * cos(phiphi)\n",
    "\n",
    "#s = sph_harm(0, 10, theta, phi).real\n",
    "mlab.figure(1, bgcolor=(0, 0, 0), fgcolor=(1, 1, 1), size=(300, 300))\n",
    "mlab.clf()\n",
    "\n",
    "cmin, cmax = -10, 10\n",
    "m = mlab.mesh(x, y, z, scalars=om1, colormap='bwr', vmin=cmin, vmax=cmax)\n",
    "m = mlab.mesh(x, y+0.8, z, scalars=om2, colormap='bwr', vmin=cmin, vmax=cmax)\n",
    "m = mlab.mesh(x, y+1.6, z, scalars=om3, colormap='bwr', vmin=cmin, vmax=cmax)\n",
    "\n",
    "m = mlab.mesh(x-1, y, z, scalars=om1, colormap='bwr', vmin=cmin, vmax=cmax)\n",
    "m = mlab.mesh(x-1, y+0.8, z, scalars=om2, colormap='bwr', vmin=cmin, vmax=cmax)\n",
    "m = mlab.mesh(x-1, y+1.6, z, scalars=om3, colormap='bwr', vmin=cmin, vmax=cmax)\n",
    "\n",
    "m = mlab.mesh(x-2, y, z, scalars=om1, colormap='bwr', vmin=cmin, vmax=cmax)\n",
    "m = mlab.mesh(x-2, y+0.8, z, scalars=om2, colormap='bwr', vmin=cmin, vmax=cmax)\n",
    "m = mlab.mesh(x-2, y+1.6, z, scalars=om3, colormap='bwr', vmin=cmin, vmax=cmax)\n",
    "\n",
    "#mlab.text3d(0.1, 0.9, 1, \"2 Omega=\",color=(1,1,1))\n",
    "\n",
    "mlab.view(50, 70, distance=2.5)\n",
    "\n",
    "m"
   ]
  },
  {
   "cell_type": "code",
   "execution_count": 22,
   "metadata": {},
   "outputs": [
    {
     "data": {
      "text/plain": [
       "(512, 256)"
      ]
     },
     "execution_count": 22,
     "metadata": {},
     "output_type": "execute_result"
    }
   ],
   "source": [
    "om.shape"
   ]
  },
  {
   "cell_type": "code",
   "execution_count": null,
   "metadata": {},
   "outputs": [],
   "source": []
  }
 ],
 "metadata": {
  "kernelspec": {
   "display_name": "Python [conda env:python3]",
   "language": "python",
   "name": "conda-env-python3-py"
  },
  "language_info": {
   "codemirror_mode": {
    "name": "ipython",
    "version": 2
   },
   "file_extension": ".py",
   "mimetype": "text/x-python",
   "name": "python",
   "nbconvert_exporter": "python",
   "pygments_lexer": "ipython2",
   "version": "2.7.15"
  },
  "varInspector": {
   "cols": {
    "lenName": 16,
    "lenType": 16,
    "lenVar": 40
   },
   "kernels_config": {
    "python": {
     "delete_cmd_postfix": "",
     "delete_cmd_prefix": "del ",
     "library": "var_list.py",
     "varRefreshCmd": "print(var_dic_list())"
    },
    "r": {
     "delete_cmd_postfix": ") ",
     "delete_cmd_prefix": "rm(",
     "library": "var_list.r",
     "varRefreshCmd": "cat(var_dic_list()) "
    }
   },
   "types_to_exclude": [
    "module",
    "function",
    "builtin_function_or_method",
    "instance",
    "_Feature"
   ],
   "window_display": false
  }
 },
 "nbformat": 4,
 "nbformat_minor": 2
}
